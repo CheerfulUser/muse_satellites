{
 "cells": [
  {
   "cell_type": "code",
   "execution_count": 2,
   "id": "993173df",
   "metadata": {},
   "outputs": [],
   "source": [
    "from starkiller import sat_killer\n",
    "import cv2\n",
    "import matplotlib.pyplot as plt\n",
    "import matplotlib\n",
    "#%matplotlib notebook\n",
    "matplotlib.use('Agg')\n",
    "from glob import glob\n",
    "import numpy as np"
   ]
  },
  {
   "cell_type": "code",
   "execution_count": 3,
   "id": "0f675f95",
   "metadata": {},
   "outputs": [],
   "source": [
    "files = glob('muse_preview_archive/*.png')"
   ]
  },
  {
   "cell_type": "code",
   "execution_count": 4,
   "id": "9cbab630",
   "metadata": {
    "scrolled": true
   },
   "outputs": [
    {
     "name": "stdout",
     "output_type": "stream",
     "text": [
      "junk:  muse_preview_archive/ADP.2019-10-03T20:48:41.991.png\n",
      "junk:  muse_preview_archive/ADP.2021-11-26T15:26:27.582.png\n",
      "junk:  muse_preview_archive/ADP.2019-10-02T07:20:55.900.png\n",
      "junk:  muse_preview_archive/ADP.2019-11-21T05:51:27.904.png\n",
      "junk:  muse_preview_archive/ADP.2019-09-28T13:26:39.655.png\n",
      "junk:  muse_preview_archive/ADP.2021-11-26T15:26:27.571.png\n"
     ]
    }
   ],
   "source": [
    "x1 = 106+20; x2 = 701-20\n",
    "y1 = 150+20; y2 = 729-20\n",
    "\n",
    "for file in files:\n",
    "    try:\n",
    "        image = cv2.imread(file,0)\n",
    "        cutout = image[y1:y2,x1:x2]\n",
    "        name = 'sat_streaks/' + file.split('/')[-1]\n",
    "        sat = sat_killer(1,1,run=False)\n",
    "        sat.quick_detection(cutout,5,savename=name)\n",
    "    except:\n",
    "        print('junk: ',file)"
   ]
  },
  {
   "cell_type": "code",
   "execution_count": null,
   "id": "9b4e376e",
   "metadata": {},
   "outputs": [],
   "source": [
    "for sat in sats:\n",
    "    name = 'muse_preview_archive/' + sat.split('/')[-1]\n",
    "    os.system(f'cp {name} muse_archive_sats')"
   ]
  },
  {
   "cell_type": "code",
   "execution_count": 322,
   "id": "d4712776",
   "metadata": {},
   "outputs": [],
   "source": [
    "close = 30\n",
    "nlines = 1\n",
    "\n",
    "c = np.sqrt((yyy[:,np.newaxis,:,np.newaxis] - yyy[np.newaxis,:,np.newaxis,:])**2 \n",
    "            + (xxx[:,np.newaxis,:,np.newaxis] - xxx[np.newaxis,:,np.newaxis,:])**2)\n",
    "c[c==0] = np.nan\n",
    "\n",
    "dmatrix = np.nanmean(np.nanmin(c,axis=2),axis=2)\n",
    "np.fill_diagonal(dmatrix,0)\n",
    "d_bool = dmatrix < close\n",
    "d_bool = np.unique(d_bool,axis=0)\n",
    "ind = np.sum(d_bool,axis=1) > nlines\n",
    "d_bool = d_bool[ind]"
   ]
  },
  {
   "cell_type": "code",
   "execution_count": 323,
   "id": "3c9831c4",
   "metadata": {},
   "outputs": [
    {
     "data": {
      "text/plain": [
       "array([[False,  True,  True]])"
      ]
     },
     "execution_count": 323,
     "metadata": {},
     "output_type": "execute_result"
    }
   ],
   "source": [
    "d_bool"
   ]
  },
  {
   "cell_type": "code",
   "execution_count": 297,
   "id": "0ec85476",
   "metadata": {},
   "outputs": [],
   "source": [
    "np.fill_diagonal(dmatrix,0)"
   ]
  },
  {
   "cell_type": "code",
   "execution_count": 299,
   "id": "25ce24af",
   "metadata": {},
   "outputs": [],
   "source": [
    "d_bool = dmatrix < 20"
   ]
  },
  {
   "cell_type": "code",
   "execution_count": 307,
   "id": "b49185c2",
   "metadata": {},
   "outputs": [],
   "source": [
    "d_bool = np.unique(d_bool,axis=0)\n"
   ]
  },
  {
   "cell_type": "code",
   "execution_count": 302,
   "id": "0a0ee825",
   "metadata": {},
   "outputs": [
    {
     "data": {
      "text/plain": [
       "array([[False,  True],\n",
       "       [ True, False],\n",
       "       [ True, False]])"
      ]
     },
     "execution_count": 302,
     "metadata": {},
     "output_type": "execute_result"
    }
   ],
   "source": [
    "np.unique(d_bool,axis=1)a\n",
    "db"
   ]
  },
  {
   "cell_type": "code",
   "execution_count": null,
   "id": "b79b4f03",
   "metadata": {},
   "outputs": [],
   "source": [
    "np.nanmin"
   ]
  },
  {
   "cell_type": "code",
   "execution_count": 272,
   "id": "c3056508",
   "metadata": {},
   "outputs": [],
   "source": [
    "c = yyy[:,np.newaxis,np.newaxis] - yyy[np.newaxis,:,np.newaxis,:,np.newaxis]"
   ]
  },
  {
   "cell_type": "code",
   "execution_count": 273,
   "id": "ce46851f",
   "metadata": {},
   "outputs": [
    {
     "data": {
      "text/plain": [
       "(1, 3, 1, 221, 1)"
      ]
     },
     "execution_count": 273,
     "metadata": {},
     "output_type": "execute_result"
    }
   ],
   "source": [
    "c.shape"
   ]
  },
  {
   "cell_type": "code",
   "execution_count": 268,
   "id": "d86833d4",
   "metadata": {},
   "outputs": [
    {
     "data": {
      "text/plain": [
       "(1, 3, 1, 221, 221)"
      ]
     },
     "execution_count": 268,
     "metadata": {},
     "output_type": "execute_result"
    }
   ],
   "source": [
    "b.shape"
   ]
  },
  {
   "cell_type": "code",
   "execution_count": null,
   "id": "d9b687dd",
   "metadata": {},
   "outputs": [],
   "source": [
    "for l in yyy:\n",
    "    yyy[:,np.newaxis] - l[]"
   ]
  },
  {
   "cell_type": "code",
   "execution_count": null,
   "id": "f82fc3c0",
   "metadata": {},
   "outputs": [],
   "source": []
  },
  {
   "cell_type": "code",
   "execution_count": 201,
   "id": "5f1f5396",
   "metadata": {},
   "outputs": [
    {
     "data": {
      "text/plain": [
       "(3, 3, 221, 221)"
      ]
     },
     "execution_count": 201,
     "metadata": {},
     "output_type": "execute_result"
    }
   ],
   "source": [
    "eh.shapea\n"
   ]
  },
  {
   "cell_type": "code",
   "execution_count": 209,
   "id": "67c83a82",
   "metadata": {},
   "outputs": [
    {
     "data": {
      "text/plain": [
       "array([[9., 9., 9.],\n",
       "       [9., 9., 9.],\n",
       "       [9., 9., 9.]])"
      ]
     },
     "execution_count": 209,
     "metadata": {},
     "output_type": "execute_result"
    }
   ],
   "source": [
    "eh[:,:,10,1]"
   ]
  },
  {
   "cell_type": "code",
   "execution_count": null,
   "id": "77fcc954",
   "metadata": {},
   "outputs": [],
   "source": []
  },
  {
   "cell_type": "code",
   "execution_count": 192,
   "id": "064cba39",
   "metadata": {},
   "outputs": [],
   "source": [
    "a = np.nanmin(eh,axis=2)"
   ]
  },
  {
   "cell_type": "code",
   "execution_count": 193,
   "id": "9b9e8070",
   "metadata": {
    "collapsed": true
   },
   "outputs": [
    {
     "data": {
      "text/plain": [
       "(3, 3, 221)"
      ]
     },
     "execution_count": 193,
     "metadata": {},
     "output_type": "execute_result"
    }
   ],
   "source": [
    "a.shape"
   ]
  },
  {
   "cell_type": "code",
   "execution_count": 194,
   "id": "84d9a1cc",
   "metadata": {},
   "outputs": [
    {
     "data": {
      "text/plain": [
       "array([[0., 0., 0.],\n",
       "       [0., 0., 0.],\n",
       "       [0., 0., 0.]])"
      ]
     },
     "execution_count": 194,
     "metadata": {},
     "output_type": "execute_result"
    }
   ],
   "source": [
    "np.nanmedian(a,axis=2)"
   ]
  },
  {
   "cell_type": "code",
   "execution_count": 195,
   "id": "170f6a36",
   "metadata": {},
   "outputs": [
    {
     "data": {
      "text/plain": [
       "(3, 3, 221, 221)"
      ]
     },
     "execution_count": 195,
     "metadata": {},
     "output_type": "execute_result"
    }
   ],
   "source": [
    "eh.shape"
   ]
  },
  {
   "cell_type": "code",
   "execution_count": 42,
   "id": "2bf2c867",
   "metadata": {},
   "outputs": [
    {
     "data": {
      "text/plain": [
       "array([[0.00470973],\n",
       "       [0.80738178],\n",
       "       [0.77657379]])"
      ]
     },
     "execution_count": 42,
     "metadata": {},
     "output_type": "execute_result"
    }
   ],
   "source": [
    "coefs[:,0][:,np.newaxis]*coefs[:,0][np.newaxis,0]"
   ]
  },
  {
   "cell_type": "code",
   "execution_count": null,
   "id": "57998669",
   "metadata": {},
   "outputs": [],
   "source": [
    "import numpy as np\n"
   ]
  },
  {
   "cell_type": "code",
   "execution_count": null,
   "id": "65bef3bf",
   "metadata": {},
   "outputs": [],
   "source": [
    "plt.figure()\n",
    "plt.imshow(sat.image,origin='lower',cmap='gray',vmin=np.nanpercentile(sat.image,16),vmax=np.nanpercentile(sat.image,95))\n",
    "for line in sat.lines:\n",
    "    x1, y1, x2, y2 = line[0]\n",
    "    plt.plot([x1,x2],[y1,y2],'C1')"
   ]
  },
  {
   "cell_type": "code",
   "execution_count": null,
   "id": "b26656be",
   "metadata": {},
   "outputs": [],
   "source": [
    "sat.plot_lines()\n",
    "#plt.savefig('thumbnail_test.png')"
   ]
  },
  {
   "cell_type": "code",
   "execution_count": null,
   "id": "c62e64a8",
   "metadata": {},
   "outputs": [],
   "source": []
  }
 ],
 "metadata": {
  "kernelspec": {
   "display_name": "Python 3 (ipykernel)",
   "language": "python",
   "name": "python3"
  },
  "language_info": {
   "codemirror_mode": {
    "name": "ipython",
    "version": 3
   },
   "file_extension": ".py",
   "mimetype": "text/x-python",
   "name": "python",
   "nbconvert_exporter": "python",
   "pygments_lexer": "ipython3",
   "version": "3.9.15"
  }
 },
 "nbformat": 4,
 "nbformat_minor": 5
}
